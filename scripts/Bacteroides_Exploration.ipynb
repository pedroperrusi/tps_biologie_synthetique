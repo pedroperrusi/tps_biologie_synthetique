{
 "cells": [
  {
   "cell_type": "markdown",
   "metadata": {},
   "source": [
    " # Explore Bacteroides Fragilis Genome"
   ]
  },
  {
   "cell_type": "code",
   "execution_count": 1,
   "metadata": {},
   "outputs": [],
   "source": [
    "import genome_functions\n",
    "# load genome\n",
    "genome = genome_functions.loadData('../data/bacteroides_fragilis.txt')\n",
    "\n"
   ]
  },
  {
   "cell_type": "code",
   "execution_count": 2,
   "metadata": {},
   "outputs": [],
   "source": [
    "''' Find relevant clumps in genome\n",
    "\n",
    "Clump is a window of L characters in the genome code.\n",
    "If its possible to find more than t occurences of a k length pattern, this clump is added to clumpDict.\n",
    "\n",
    "Return: Dictionary of clump indexes as keys and number of different patterns repeated as values.\n",
    "'''\n",
    "def ClumpFinding(genome, k, L, t):\n",
    "    clumpDict = {}\n",
    "    w_begin = 0\n",
    "    w_end = L\n",
    "    while w_end < len(genome):\n",
    "        clump = genome[w_begin:w_end]\n",
    "        freqs = genome_functions.MapFrequencies(clump, k)\n",
    "        valid_patterns = [key for key, v in freqs.items() if v >= t]\n",
    "        # if list is not empty\n",
    "        if valid_patterns:\n",
    "            clumpDict[w_begin] = len(valid_patterns)\n",
    "        # updates loop variables\n",
    "        w_begin += 1\n",
    "        w_end += 1\n",
    "    return clumpDict\n",
    "\n"
   ]
  },
  {
   "cell_type": "code",
   "execution_count": null,
   "metadata": {},
   "outputs": [],
   "source": [
    "L = 500\n",
    "t = 3\n",
    "k = 9\n",
    "patterns = ClumpFinding(genome, k, L, t)\n",
    "print(patterns)\n",
    "\n"
   ]
  },
  {
   "cell_type": "code",
   "execution_count": 0,
   "metadata": {},
   "outputs": [],
   "source": [
    "freqs = genome_functions.MapFrequencies(genome[:L], k)\n",
    "print(freqs)\n",
    "\n"
   ]
  },
  {
   "cell_type": "code",
   "execution_count": 0,
   "metadata": {},
   "outputs": [],
   "source": [
    "\n",
    "\n",
    "\n"
   ]
  }
 ],
 "metadata": {
  "file_extension": ".py",
  "kernelspec": {
   "display_name": "Python 3",
   "language": "python",
   "name": "python3"
  },
  "language_info": {
   "codemirror_mode": {
    "name": "ipython",
    "version": 3
   },
   "file_extension": ".py",
   "mimetype": "text/x-python",
   "name": "python",
   "nbconvert_exporter": "python",
   "pygments_lexer": "ipython3",
   "version": "3.7.2"
  },
  "mimetype": "text/x-python",
  "name": "python",
  "npconvert_exporter": "python",
  "pygments_lexer": "ipython3",
  "version": 3
 },
 "nbformat": 4,
 "nbformat_minor": 2
}
