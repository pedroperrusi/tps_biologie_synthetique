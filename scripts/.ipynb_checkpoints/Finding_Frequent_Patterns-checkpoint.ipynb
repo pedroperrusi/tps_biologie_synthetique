{
 "cells": [
  {
   "cell_type": "markdown",
   "metadata": {},
   "source": [
    "# Finding Frequent Patterns\n"
   ]
  },
  {
   "cell_type": "code",
   "execution_count": 38,
   "metadata": {},
   "outputs": [],
   "source": [
    "### Load Data\n",
    "filepath = '../data/v_cholerae_oric.txt'\n",
    "with open(filepath, 'r') as myfile:\n",
    "    genome_oric = myfile.read().replace('\\n', '')"
   ]
  },
  {
   "cell_type": "markdown",
   "metadata": {},
   "source": [
    "### Loading data"
   ]
  },
  {
   "cell_type": "code",
   "execution_count": 39,
   "metadata": {},
   "outputs": [
    {
     "name": "stdout",
     "output_type": "stream",
     "text": [
      "ATCAATGATCAACGTAAGCTTCTAAGCATGATCAAGGTGCTCACACAGTTTATCCACAACCTGAGTGGATGACATCAAGATAGGTCGTTGTATCTCCTTCCTCTCGTACTCTCATGACCACGGAAAGATGATCAAGAGAGGATGATTTCTTGGCCATATCGCAATGAATACTTGTGACTTGTGCTTCCAATTGACATCTTCAGCGCCATATTGCGCTGGCCAAGGTGACGGAGCGGGATTACGAAAGCATGATCATGGCTGTTGTTCTGTTTATCTTGTTTTGACTGAGACTTGTTAGGATAGACGGTTTTTCATCACTGACTAGCCAAAGCCTTACTCTGCCTGACATCGACCGTAAATTGATAATGAATTTACATGCTTCCGCGACGATTTACCTCTTGATCATCGATCCGATTGAAGATCTTCAATTGTTAATTCTCTTGCCTCGACTCATAGCCATGATGAGCTCTTGATCATGTTTCCTTAACCCTCTATTTTTTACGGAAGAATGATCAAGCTGCTGCTCTTGATCATCGTTTC\n"
     ]
    }
   ],
   "source": [
    "print(genome_oric)"
   ]
  },
  {
   "cell_type": "markdown",
   "metadata": {},
   "source": [
    "## 1 : Pattern count funtion"
   ]
  },
  {
   "cell_type": "code",
   "execution_count": 40,
   "metadata": {},
   "outputs": [],
   "source": [
    "### Pattern finding function\n",
    "def PatternCount(text, pattern):\n",
    "    count = 0\n",
    "    for i in range(len(text)-len(pattern)+1):\n",
    "        if text[i:i+len(pattern)] == pattern:\n",
    "            count = count + 1\n",
    "    return count"
   ]
  },
  {
   "cell_type": "code",
   "execution_count": 41,
   "metadata": {},
   "outputs": [
    {
     "name": "stdout",
     "output_type": "stream",
     "text": [
      "8\n"
     ]
    }
   ],
   "source": [
    "# Count pattarn of the 'TGATCA' string\n",
    "print(PatternCount(genome_oric, 'TGATCA'))"
   ]
  },
  {
   "cell_type": "markdown",
   "metadata": {},
   "source": [
    "## 2 : Frquent Words function"
   ]
  },
  {
   "cell_type": "code",
   "execution_count": 42,
   "metadata": {},
   "outputs": [],
   "source": [
    "# reference : https://www.biostars.org/p/307731/\n",
    "def FrequentWords(text,  k):\n",
    "    # words frequency dictionary\n",
    "    freq = {}\n",
    "    n = len(text)\n",
    "    for i in range (n-k+1):\n",
    "        Pattern = text [i:i+k]\n",
    "        if Pattern not in freq:\n",
    "            freq [Pattern] = 1 # if a pattern found is not already  in the dictionary freq{}, it is assigned a value of 1 and added to the list\n",
    "        else:\n",
    "            freq [Pattern] +=1 # however, if the pattern is already in the dictionary, its value should go up by 1 (so if it has been found, it is initially given a pattern of 1, and then this adds another 1 if it is found again\n",
    "    return freq"
   ]
  },
  {
   "cell_type": "code",
   "execution_count": 43,
   "metadata": {},
   "outputs": [
    {
     "name": "stdout",
     "output_type": "stream",
     "text": [
      "{'ATC': 21, 'TCA': 17, 'CAA': 12, 'AAT': 10, 'ATG': 15, 'TGA': 25, 'GAT': 21, 'AAC': 3, 'ACG': 7, 'CGT': 5, 'GTA': 4, 'TAA': 6, 'AAG': 12, 'AGC': 10, 'GCT': 10, 'CTT': 17, 'TTC': 12, 'TCT': 16, 'CTA': 3, 'GCA': 3, 'CAT': 16, 'AGG': 5, 'GGT': 4, 'GTG': 5, 'TGC': 8, 'CTC': 14, 'CAC': 5, 'ACA': 7, 'CAG': 2, 'AGT': 2, 'GTT': 11, 'TTT': 16, 'TTA': 10, 'TAT': 6, 'TCC': 7, 'CCA': 8, 'ACC': 5, 'CCT': 9, 'CTG': 10, 'GAG': 6, 'TGG': 4, 'GGA': 7, 'GAC': 13, 'AGA': 8, 'ATA': 7, 'TAG': 5, 'GTC': 1, 'TCG': 7, 'TTG': 17, 'TGT': 10, 'TAC': 7, 'ACT': 9, 'CGG': 5, 'GAA': 7, 'AAA': 4, 'ATT': 11, 'GGC': 3, 'GCC': 8, 'CGC': 4, 'GCG': 4, 'GGG': 1, 'CGA': 7, 'CCG': 3, 'CCC': 1}\n"
     ]
    }
   ],
   "source": [
    "freq = FrequentWords(genome_oric, 3)\n",
    "print(freq)"
   ]
  },
  {
   "cell_type": "code",
   "execution_count": 44,
   "metadata": {},
   "outputs": [
    {
     "name": "stdout",
     "output_type": "stream",
     "text": [
      "TGA :  25\n"
     ]
    }
   ],
   "source": [
    "# most frequent pattern\n",
    "maxFreq = max(freq, key=freq.get)\n",
    "print(maxFreq, ': ', freq[maxFreq])"
   ]
  },
  {
   "cell_type": "markdown",
   "metadata": {},
   "source": [
    "## 3 : Pattern Matching"
   ]
  },
  {
   "cell_type": "code",
   "execution_count": null,
   "metadata": {},
   "outputs": [],
   "source": [
    "### Pattern Matching Function\n",
    "def PatternMatching(text, pattern):\n",
    "    positions = [] # empty list\n",
    "    for i in range(len(text)-len(pattern)+1):\n",
    "        if text[i:i+len(pattern)] == pattern:\n",
    "            positions = [positions i]\n",
    "    return positions"
   ]
  },
  {
   "cell_type": "code",
   "execution_count": null,
   "metadata": {},
   "outputs": [],
   "source": []
  },
  {
   "cell_type": "code",
   "execution_count": null,
   "metadata": {},
   "outputs": [],
   "source": []
  }
 ],
 "metadata": {
  "kernelspec": {
   "display_name": "Python 3",
   "language": "python",
   "name": "python3"
  },
  "language_info": {
   "codemirror_mode": {
    "name": "ipython",
    "version": 3
   },
   "file_extension": ".py",
   "mimetype": "text/x-python",
   "name": "python",
   "nbconvert_exporter": "python",
   "pygments_lexer": "ipython3",
   "version": "3.6.5"
  }
 },
 "nbformat": 4,
 "nbformat_minor": 2
}
