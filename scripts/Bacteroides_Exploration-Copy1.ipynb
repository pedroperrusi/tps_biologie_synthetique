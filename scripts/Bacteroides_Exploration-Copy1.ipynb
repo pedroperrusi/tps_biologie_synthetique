{
 "cells": [
  {
   "cell_type": "markdown",
   "metadata": {},
   "source": [
    "# Explore Bacteroides Fragilis Genome "
   ]
  },
  {
   "cell_type": "code",
   "execution_count": 1,
   "metadata": {},
   "outputs": [],
   "source": [
    "import genome_functions\n",
    "# load genome\n",
    "genome = genome_functions.loadData('../data/bacteroides_fragilis.txt')"
   ]
  },
  {
   "cell_type": "code",
   "execution_count": 2,
   "metadata": {},
   "outputs": [],
   "source": [
    "import itertools\n",
    "from collections import Counter\n",
    "\n",
    "def frequent_words_problem(string, k):\n",
    "\n",
    "    words = []\n",
    "    results = []      \n",
    "\n",
    "    for i in range(len(string)):  \n",
    "        word = \"\".join(string[i: i+k])\n",
    "\n",
    "        if len(word) == k:\n",
    "            words.append(word)  \n",
    "\n",
    "    return Counter(words).most_common()\n",
    "\n",
    "def clump_finding_problem(string, k, L, t):  \n",
    "  \n",
    "    words = []    \n",
    "\n",
    "    for i in range(len(string)):\n",
    "        string_1 = string[i: i+L]\n",
    "\n",
    "        if len(string_1) == L:            \n",
    "            words.append(frequent_words_problem(string_1, k))\n",
    "            \n",
    "    dummy = list(itertools.chain(*words))\n",
    "\n",
    "    return [y for y in set([x[0] for x in dummy if x[1] >= t])]"
   ]
  },
  {
   "cell_type": "code",
   "execution_count": null,
   "metadata": {},
   "outputs": [],
   "source": [
    "L = 500\n",
    "t = 3\n",
    "k = 9\n",
    "patterns = clump_finding_problem(genome, k, L, t)\n",
    "print(patterns)"
   ]
  },
  {
   "cell_type": "code",
   "execution_count": null,
   "metadata": {},
   "outputs": [],
   "source": []
  }
 ],
 "metadata": {
  "kernelspec": {
   "display_name": "Python 3",
   "language": "python",
   "name": "python3"
  },
  "language_info": {
   "codemirror_mode": {
    "name": "ipython",
    "version": 3
   },
   "file_extension": ".py",
   "mimetype": "text/x-python",
   "name": "python",
   "nbconvert_exporter": "python",
   "pygments_lexer": "ipython3",
   "version": "3.6.5"
  }
 },
 "nbformat": 4,
 "nbformat_minor": 2
}
