{
 "cells": [
  {
   "cell_type": "markdown",
   "metadata": {},
   "source": [
    "# Some Optimization to Pattern Searching"
   ]
  },
  {
   "cell_type": "code",
   "execution_count": 32,
   "metadata": {},
   "outputs": [],
   "source": [
    "''' Basuc function Definitions '''\n",
    "\n",
    "def loadData(filename):\n",
    "    with open(filename, 'r') as myfile:\n",
    "        text = myfile.read().replace('\\n', '')\n",
    "    return text"
   ]
  },
  {
   "cell_type": "markdown",
   "metadata": {},
   "source": [
    "## Pattern to Number"
   ]
  },
  {
   "cell_type": "code",
   "execution_count": 36,
   "metadata": {},
   "outputs": [],
   "source": [
    "''' Binary encoding of genome pattern\n",
    "\n",
    "Each genome letter is encoded as a two bit value.\n",
    "A genome pattern of length l is interpreted as a little endian binary word of length 2*l.\n",
    "For each letter in the genome, the letter encoding value is multiplied by 4 powered to the letter position.\n",
    "\n",
    "Examples:\n",
    "    AAA -> 0\n",
    "    AAC -> 1\n",
    "    AAG -> 2\n",
    "    AAT -> 3\n",
    "    ACA -> 4\n",
    "\n",
    "Returns: a code representing the sum of the given binary word\n",
    "'''\n",
    "def patternToNumber(pattern):\n",
    "    letterDict = {'A' : 0, 'C' : 1, 'G' : 2, 'T' : 3}\n",
    "    reversedPattern = pattern[::-1] # little endian pattern\n",
    "    patternCode = 0\n",
    "    ''' loops over the reversed pattern '''\n",
    "    for i in range(len(reversedPattern)):\n",
    "        patternCode += letterDict[reversedPattern[i]] * 4**i\n",
    "    return patternCode"
   ]
  },
  {
   "cell_type": "code",
   "execution_count": 42,
   "metadata": {},
   "outputs": [
    {
     "name": "stdout",
     "output_type": "stream",
     "text": [
      "['AAA', 'AAC', 'AAG', 'AAT', 'ACA']\n",
      "[0, 1, 2, 3, 4]\n"
     ]
    }
   ],
   "source": [
    "''' Test patternToNumber '''\n",
    "testCases = ['AAA', 'AAC', 'AAG', 'AAT', 'ACA']\n",
    "testerPatternToNumber = lambda pat: patternToNumber(pat)\n",
    "print(testCases)\n",
    "print(list(map(testerPatternToNumber, testCases)))"
   ]
  },
  {
   "cell_type": "markdown",
   "metadata": {},
   "source": [
    "## Number to Pattern "
   ]
  },
  {
   "cell_type": "code",
   "execution_count": 90,
   "metadata": {},
   "outputs": [],
   "source": [
    "''' Binary decoding of genome pattern\n",
    "\n",
    "Inverse funtion of patternToNumber\n",
    "\n",
    "Examples:\n",
    "    0 -> AAA\n",
    "    1 -> AAC\n",
    "    2 -> AAG\n",
    "    3 -> AAT\n",
    "    4 -> ACA\n",
    "\n",
    "Returns: a pattern given for the given number\n",
    "'''\n",
    "def numberToPattern(patternCode, length):\n",
    "    numberDict = {0:'A', 1:'C', 2:'G', 3:'T'}\n",
    "    pattern = []\n",
    "    # copy pattern code\n",
    "    remainingCode = patternCode\n",
    "    while remainingCode > 0:\n",
    "        value = remainingCode % 4\n",
    "        pattern.append(numberDict[value])\n",
    "        remainingCode -= value\n",
    "        remainingCode /= 4\n",
    "    while len(pattern) < length:\n",
    "        pattern.append('A')\n",
    "    return ''.join(pattern[::-1])"
   ]
  },
  {
   "cell_type": "code",
   "execution_count": 94,
   "metadata": {},
   "outputs": [
    {
     "name": "stdout",
     "output_type": "stream",
     "text": [
      "[0, 1, 2, 3, 4, 5]\n",
      "['AAA', 'AAC', 'AAG', 'AAT', 'ACA', 'ACC']\n"
     ]
    }
   ],
   "source": [
    "''' Test numberToPattern '''\n",
    "testCases = [ 0, 1, 2, 3, 4, 5]\n",
    "testerNumberToPattern = lambda nbr: numberToPattern(nbr, 3)\n",
    "print(testCases)\n",
    "print(list(map(testerNumberToPattern, testCases)))"
   ]
  },
  {
   "cell_type": "markdown",
   "metadata": {},
   "source": [
    "## Computing Frequencies"
   ]
  },
  {
   "cell_type": "code",
   "execution_count": 104,
   "metadata": {},
   "outputs": [],
   "source": [
    "''' Map Frequencies \n",
    "\n",
    "Creates a dictionary of each pattern code of length k and its frequency count.\n",
    "\n",
    "inspired by :\n",
    "https://www.biostars.org/p/307731/\n",
    "\n",
    "'''\n",
    "def MapFrequencies(text, k):\n",
    "    freq = {} # pattern frequencies dictionary\n",
    "    n = len(text)\n",
    "    for i in range (n-k+1):\n",
    "        pattern = text [i:i+k]\n",
    "        patternCode = patternToNumber(pattern)\n",
    "        if patternCode not in freq:\n",
    "            freq[patternCode] = 1 # if a pattern found is not already  in the dictionary freq{}, it is assigned a value of 1 and added to the list\n",
    "        else:\n",
    "            freq[patternCode] +=1 # however, if the pattern is already in the dictionary, its value should go up by 1 (so if it has been found, it is initially given a pattern of 1, and then this adds another 1 if it is found again\n",
    "    return freq\n",
    "\n",
    "''' Computing Frequencies\n",
    "\n",
    "text : the genome\n",
    "k : length of the patterns searched\n",
    "\n",
    "Return: a frequency array of the most frequent k-mers in the text and their occurence\n",
    "'''\n",
    "def ComputingFrequencies(text, k):\n",
    "    freqs = MapFrequencies(text, k)\n",
    "    max_value = max(freqs.values())  # maximum key value\n",
    "    max_patterns = [numberToPattern(key, k) for key, v in freqs.items() if v == max_value]\n",
    "    return max_value, max_patterns"
   ]
  },
  {
   "cell_type": "code",
   "execution_count": 105,
   "metadata": {},
   "outputs": [
    {
     "data": {
      "text/plain": [
       "(3, ['ATTAATC', 'TCTTGCT'])"
      ]
     },
     "execution_count": 105,
     "metadata": {},
     "output_type": "execute_result"
    }
   ],
   "source": [
    "genome = loadData('../data/random21.txt')\n",
    "ComputingFrequencies(genome, 7)"
   ]
  },
  {
   "cell_type": "code",
   "execution_count": null,
   "metadata": {},
   "outputs": [],
   "source": []
  }
 ],
 "metadata": {
  "kernelspec": {
   "display_name": "Python 3",
   "language": "python",
   "name": "python3"
  },
  "language_info": {
   "codemirror_mode": {
    "name": "ipython",
    "version": 3
   },
   "file_extension": ".py",
   "mimetype": "text/x-python",
   "name": "python",
   "nbconvert_exporter": "python",
   "pygments_lexer": "ipython3",
   "version": "3.6.5"
  }
 },
 "nbformat": 4,
 "nbformat_minor": 2
}
