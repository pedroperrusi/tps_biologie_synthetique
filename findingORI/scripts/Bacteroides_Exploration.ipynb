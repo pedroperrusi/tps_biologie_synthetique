{
 "cells": [
  {
   "cell_type": "markdown",
   "metadata": {},
   "source": [
    "  # Clump Finding"
   ]
  },
  {
   "cell_type": "code",
   "execution_count": 2,
   "metadata": {},
   "outputs": [],
   "source": [
    "from genome_functions import loadData, MapFrequencies, numberToPattern"
   ]
  },
  {
   "cell_type": "code",
   "execution_count": 3,
   "metadata": {},
   "outputs": [],
   "source": [
    "''' Find relevant clumps in genome\n",
    "\n",
    "Clump is a window of L characters in the genome code.\n",
    "If its possible to find more than t occurences of a k length pattern, this clump is added to clumpDict.\n",
    "\n",
    "Return: Dictionary of clump indexes as keys and number of different patterns repeated as values.\n",
    "'''\n",
    "def ClumpFinding(genome, k, L, t):\n",
    "    clumpDict = {}\n",
    "    w_begin = 0\n",
    "    w_end = L\n",
    "    while w_end < len(genome):\n",
    "        clump = genome[w_begin:w_end]\n",
    "        freqs = MapFrequencies(clump, k)\n",
    "        valid_patterns = [key for key, v in freqs.items() if v >= t]\n",
    "        # if list is not empty\n",
    "        if valid_patterns:\n",
    "            clumpDict[w_begin] = valid_patterns\n",
    "        # updates loop variables\n",
    "        w_begin += 1\n",
    "        w_end += 1\n",
    "    return clumpDict\n",
    "\n"
   ]
  },
  {
   "cell_type": "code",
   "execution_count": 4,
   "metadata": {},
   "outputs": [
    {
     "name": "stdout",
     "output_type": "stream",
     "text": [
      "Genome length:  540\n",
      "{372: [1918], 373: [1918], 374: [1918], 375: [1918], 376: [1918], 377: [1918], 378: [1918], 379: [1918], 380: [1918], 381: [1918], 382: [1918], 383: [1918], 384: [1918], 385: [1918], 386: [1918], 387: [1918], 388: [1918], 389: [1918], 390: [1918], 391: [1918], 392: [1918], 393: [1918], 394: [1918], 395: [1918], 429: [1918], 430: [1918], 431: [1918], 432: [1918], 433: [1918, 3636], 434: [1918, 3636], 435: [1918, 3636], 436: [1918, 3636], 437: [1918, 3636], 438: [3636], 439: [3636]}\n"
     ]
    }
   ],
   "source": [
    "# validate clump finding in a small genome\n",
    "genome = loadData('../data/v_cholerae_oric.txt')\n",
    "print('Genome length: ', len(genome))\n",
    "L = 100 # window length\n",
    "t = 3 # patterns occurences threshold\n",
    "k = 6 # pattern length\n",
    "patternCodeDict = ClumpFinding(genome, k, L, t)\n",
    "print(patternCodeDict)"
   ]
  },
  {
   "cell_type": "code",
   "execution_count": 5,
   "metadata": {},
   "outputs": [
    {
     "name": "stdout",
     "output_type": "stream",
     "text": [
      "{372: ['CTCTTG'], 373: ['CTCTTG'], 374: ['CTCTTG'], 375: ['CTCTTG'], 376: ['CTCTTG'], 377: ['CTCTTG'], 378: ['CTCTTG'], 379: ['CTCTTG'], 380: ['CTCTTG'], 381: ['CTCTTG'], 382: ['CTCTTG'], 383: ['CTCTTG'], 384: ['CTCTTG'], 385: ['CTCTTG'], 386: ['CTCTTG'], 387: ['CTCTTG'], 388: ['CTCTTG'], 389: ['CTCTTG'], 390: ['CTCTTG'], 391: ['CTCTTG'], 392: ['CTCTTG'], 393: ['CTCTTG'], 394: ['CTCTTG'], 395: ['CTCTTG'], 429: ['CTCTTG'], 430: ['CTCTTG'], 431: ['CTCTTG'], 432: ['CTCTTG'], 433: ['CTCTTG', 'TGATCA'], 434: ['CTCTTG', 'TGATCA'], 435: ['CTCTTG', 'TGATCA'], 436: ['CTCTTG', 'TGATCA'], 437: ['CTCTTG', 'TGATCA'], 438: ['TGATCA'], 439: ['TGATCA']}\n"
     ]
    }
   ],
   "source": [
    "# convert pattern codes to patterns of length k\n",
    "# function redefinition to a constant parameter k\n",
    "nbr2pattern_k = lambda v : numberToPattern(v, k)\n",
    "# apply it to each value and store it in new dict\n",
    "patternDict = dict((key, list(map(nbr2pattern_k, value))) for key, value in patternCodeDict.items())\n",
    "print(patternDict)"
   ]
  },
  {
   "cell_type": "markdown",
   "metadata": {},
   "source": [
    " # Explore Bacteroides Fragilis Genome"
   ]
  },
  {
   "cell_type": "code",
   "execution_count": 6,
   "metadata": {},
   "outputs": [
    {
     "name": "stdout",
     "output_type": "stream",
     "text": [
      "Total length :  5205140\n",
      "TTATCAACACCTATGTTAACAAGAAAAGAATTACTTTTGCAACATACTAACAGAAACGACATCATCATGCGAAAATTGAAAATAACCGAGCTGAACCGGATAAGTATAGAAGAGTTTAAAGAAGCTGATAAATTGCCTTTAGTTGTAGTGTTGGACGATATACGGAGTTTGCATAATATCGGTTCTGTGTTTCGTACGGCAGATGCTTTCCGGATTGAATGTATTTATCTGTGTGGAATTACGGCTACTCCTCCCCATCCCGAGATGCATAAGACAGCTTTGGGAGCCGAGTTTACAGTGGATTGGAAGTATGTTAATAACGCAGTTGAAACGGTTGATAACCTCCGGAGTGAAGGATATGTGGTATACTCTGTCGAACAGGCGGAAGGGAGTATCATGTTGGATGAGTTAACACTGGACCGTTCGAAGAAATATGCTGTAGTTATGGGAAATGAAGTAAAAGGAGTGCAGCAGGAGGTTATTGACCATTCGGATGGTTG\n"
     ]
    }
   ],
   "source": [
    "# load the big genoma of bacteroides fragilis\n",
    "genome = loadData('../data/bacteroides_fragilis.txt')\n",
    "# total length\n",
    "print('Total length : ', len(genome))\n",
    "# print first 500 elements\n",
    "print(genome[:500])\n"
   ]
  },
  {
   "cell_type": "code",
   "execution_count": 7,
   "metadata": {},
   "outputs": [
    {
     "ename": "KeyboardInterrupt",
     "evalue": "",
     "output_type": "error",
     "traceback": [
      "\u001b[0;31m---------------------------------------------------------------------------\u001b[0m",
      "\u001b[0;31mKeyboardInterrupt\u001b[0m                         Traceback (most recent call last)",
      "\u001b[0;32m<ipython-input-7-9ed906a98996>\u001b[0m in \u001b[0;36m<module>\u001b[0;34m()\u001b[0m\n\u001b[1;32m      3\u001b[0m \u001b[0mt\u001b[0m \u001b[0;34m=\u001b[0m \u001b[0;36m3\u001b[0m \u001b[0;31m# patterns occurences threshold\u001b[0m\u001b[0;34m\u001b[0m\u001b[0;34m\u001b[0m\u001b[0m\n\u001b[1;32m      4\u001b[0m \u001b[0mk\u001b[0m \u001b[0;34m=\u001b[0m \u001b[0;36m9\u001b[0m \u001b[0;31m# pattern length\u001b[0m\u001b[0;34m\u001b[0m\u001b[0;34m\u001b[0m\u001b[0m\n\u001b[0;32m----> 5\u001b[0;31m \u001b[0mpatternCodeDict\u001b[0m \u001b[0;34m=\u001b[0m \u001b[0mClumpFinding\u001b[0m\u001b[0;34m(\u001b[0m\u001b[0mgenome\u001b[0m\u001b[0;34m,\u001b[0m \u001b[0mk\u001b[0m\u001b[0;34m,\u001b[0m \u001b[0mL\u001b[0m\u001b[0;34m,\u001b[0m \u001b[0mt\u001b[0m\u001b[0;34m)\u001b[0m\u001b[0;34m\u001b[0m\u001b[0;34m\u001b[0m\u001b[0m\n\u001b[0m\u001b[1;32m      6\u001b[0m \u001b[0mprint\u001b[0m\u001b[0;34m(\u001b[0m\u001b[0mpatternCodeDict\u001b[0m\u001b[0;34m)\u001b[0m\u001b[0;34m\u001b[0m\u001b[0;34m\u001b[0m\u001b[0m\n",
      "\u001b[0;32m<ipython-input-3-4ea1f0a36a18>\u001b[0m in \u001b[0;36mClumpFinding\u001b[0;34m(genome, k, L, t)\u001b[0m\n\u001b[1;32m     12\u001b[0m     \u001b[0;32mwhile\u001b[0m \u001b[0mw_end\u001b[0m \u001b[0;34m<\u001b[0m \u001b[0mlen\u001b[0m\u001b[0;34m(\u001b[0m\u001b[0mgenome\u001b[0m\u001b[0;34m)\u001b[0m\u001b[0;34m:\u001b[0m\u001b[0;34m\u001b[0m\u001b[0;34m\u001b[0m\u001b[0m\n\u001b[1;32m     13\u001b[0m         \u001b[0mclump\u001b[0m \u001b[0;34m=\u001b[0m \u001b[0mgenome\u001b[0m\u001b[0;34m[\u001b[0m\u001b[0mw_begin\u001b[0m\u001b[0;34m:\u001b[0m\u001b[0mw_end\u001b[0m\u001b[0;34m]\u001b[0m\u001b[0;34m\u001b[0m\u001b[0;34m\u001b[0m\u001b[0m\n\u001b[0;32m---> 14\u001b[0;31m         \u001b[0mfreqs\u001b[0m \u001b[0;34m=\u001b[0m \u001b[0mMapFrequencies\u001b[0m\u001b[0;34m(\u001b[0m\u001b[0mclump\u001b[0m\u001b[0;34m,\u001b[0m \u001b[0mk\u001b[0m\u001b[0;34m)\u001b[0m\u001b[0;34m\u001b[0m\u001b[0;34m\u001b[0m\u001b[0m\n\u001b[0m\u001b[1;32m     15\u001b[0m         \u001b[0mvalid_patterns\u001b[0m \u001b[0;34m=\u001b[0m \u001b[0;34m[\u001b[0m\u001b[0mkey\u001b[0m \u001b[0;32mfor\u001b[0m \u001b[0mkey\u001b[0m\u001b[0;34m,\u001b[0m \u001b[0mv\u001b[0m \u001b[0;32min\u001b[0m \u001b[0mfreqs\u001b[0m\u001b[0;34m.\u001b[0m\u001b[0mitems\u001b[0m\u001b[0;34m(\u001b[0m\u001b[0;34m)\u001b[0m \u001b[0;32mif\u001b[0m \u001b[0mv\u001b[0m \u001b[0;34m>=\u001b[0m \u001b[0mt\u001b[0m\u001b[0;34m]\u001b[0m\u001b[0;34m\u001b[0m\u001b[0;34m\u001b[0m\u001b[0m\n\u001b[1;32m     16\u001b[0m         \u001b[0;31m# if list is not empty\u001b[0m\u001b[0;34m\u001b[0m\u001b[0;34m\u001b[0m\u001b[0;34m\u001b[0m\u001b[0m\n",
      "\u001b[0;32m~/Desktop/github/tps_biologie_synthetique/findingORI/scripts/genome_functions.py\u001b[0m in \u001b[0;36mMapFrequencies\u001b[0;34m(text, k)\u001b[0m\n\u001b[1;32m    108\u001b[0m     \u001b[0;32mfor\u001b[0m \u001b[0mi\u001b[0m \u001b[0;32min\u001b[0m \u001b[0mrange\u001b[0m \u001b[0;34m(\u001b[0m\u001b[0mn\u001b[0m\u001b[0;34m-\u001b[0m\u001b[0mk\u001b[0m\u001b[0;34m+\u001b[0m\u001b[0;36m1\u001b[0m\u001b[0;34m)\u001b[0m\u001b[0;34m:\u001b[0m\u001b[0;34m\u001b[0m\u001b[0;34m\u001b[0m\u001b[0m\n\u001b[1;32m    109\u001b[0m         \u001b[0mpattern\u001b[0m \u001b[0;34m=\u001b[0m \u001b[0mtext\u001b[0m \u001b[0;34m[\u001b[0m\u001b[0mi\u001b[0m\u001b[0;34m:\u001b[0m\u001b[0mi\u001b[0m\u001b[0;34m+\u001b[0m\u001b[0mk\u001b[0m\u001b[0;34m]\u001b[0m\u001b[0;34m\u001b[0m\u001b[0;34m\u001b[0m\u001b[0m\n\u001b[0;32m--> 110\u001b[0;31m         \u001b[0mpatternCode\u001b[0m \u001b[0;34m=\u001b[0m \u001b[0mpatternToNumber\u001b[0m\u001b[0;34m(\u001b[0m\u001b[0mpattern\u001b[0m\u001b[0;34m)\u001b[0m\u001b[0;34m\u001b[0m\u001b[0;34m\u001b[0m\u001b[0m\n\u001b[0m\u001b[1;32m    111\u001b[0m         \u001b[0;32mif\u001b[0m \u001b[0mpatternCode\u001b[0m \u001b[0;32mnot\u001b[0m \u001b[0;32min\u001b[0m \u001b[0mfreq\u001b[0m\u001b[0;34m:\u001b[0m\u001b[0;34m\u001b[0m\u001b[0;34m\u001b[0m\u001b[0m\n\u001b[1;32m    112\u001b[0m             \u001b[0mfreq\u001b[0m\u001b[0;34m[\u001b[0m\u001b[0mpatternCode\u001b[0m\u001b[0;34m]\u001b[0m \u001b[0;34m=\u001b[0m \u001b[0;36m1\u001b[0m \u001b[0;31m# if a pattern found is not already  in the dictionary freq{}, it is assigned a value of 1 and added to the list\u001b[0m\u001b[0;34m\u001b[0m\u001b[0;34m\u001b[0m\u001b[0m\n",
      "\u001b[0;32m~/Desktop/github/tps_biologie_synthetique/findingORI/scripts/genome_functions.py\u001b[0m in \u001b[0;36mpatternToNumber\u001b[0;34m(pattern)\u001b[0m\n\u001b[1;32m     65\u001b[0m     \u001b[0;34m''' loops over the reversed pattern '''\u001b[0m\u001b[0;34m\u001b[0m\u001b[0;34m\u001b[0m\u001b[0m\n\u001b[1;32m     66\u001b[0m     \u001b[0;32mfor\u001b[0m \u001b[0mi\u001b[0m \u001b[0;32min\u001b[0m \u001b[0mrange\u001b[0m\u001b[0;34m(\u001b[0m\u001b[0mlen\u001b[0m\u001b[0;34m(\u001b[0m\u001b[0mreversedPattern\u001b[0m\u001b[0;34m)\u001b[0m\u001b[0;34m)\u001b[0m\u001b[0;34m:\u001b[0m\u001b[0;34m\u001b[0m\u001b[0;34m\u001b[0m\u001b[0m\n\u001b[0;32m---> 67\u001b[0;31m         \u001b[0mpatternCode\u001b[0m \u001b[0;34m+=\u001b[0m \u001b[0mletterDict\u001b[0m\u001b[0;34m[\u001b[0m\u001b[0mreversedPattern\u001b[0m\u001b[0;34m[\u001b[0m\u001b[0mi\u001b[0m\u001b[0;34m]\u001b[0m\u001b[0;34m]\u001b[0m \u001b[0;34m*\u001b[0m \u001b[0;36m4\u001b[0m\u001b[0;34m**\u001b[0m\u001b[0mi\u001b[0m\u001b[0;34m\u001b[0m\u001b[0;34m\u001b[0m\u001b[0m\n\u001b[0m\u001b[1;32m     68\u001b[0m     \u001b[0;32mreturn\u001b[0m \u001b[0mpatternCode\u001b[0m\u001b[0;34m\u001b[0m\u001b[0;34m\u001b[0m\u001b[0m\n\u001b[1;32m     69\u001b[0m \u001b[0;34m\u001b[0m\u001b[0m\n",
      "\u001b[0;31mKeyboardInterrupt\u001b[0m: "
     ]
    }
   ],
   "source": [
    "# apply clump finding to the genome\n",
    "L = 500 # window length\n",
    "t = 3 # patterns occurences threshold\n",
    "k = 9 # pattern length\n",
    "patternCodeDict = ClumpFinding(genome, k, L, t)\n",
    "print(patternCodeDict)\n"
   ]
  },
  {
   "cell_type": "code",
   "execution_count": null,
   "metadata": {},
   "outputs": [],
   "source": [
    "# convert pattern codes to patterns of length k\n",
    "\n",
    "# function redefinition\n",
    "nbr2pattern_k = lambda v : numberToPattern(v, k)\n",
    "# apply it to each value and store it in new dict\n",
    "patternDict = dict((key, list(map(nbr2pattern_k, value))) for key, value in patternCodeDict.items())\n",
    "\n",
    "print(patternDict)\n"
   ]
  },
  {
   "cell_type": "code",
   "execution_count": 0,
   "metadata": {},
   "outputs": [],
   "source": []
  }
 ],
 "metadata": {
  "file_extension": ".py",
  "kernelspec": {
   "display_name": "Python 3",
   "language": "python",
   "name": "python3"
  },
  "language_info": {
   "codemirror_mode": {
    "name": "ipython",
    "version": 3
   },
   "file_extension": ".py",
   "mimetype": "text/x-python",
   "name": "python",
   "nbconvert_exporter": "python",
   "pygments_lexer": "ipython3",
   "version": "3.7.2"
  },
  "mimetype": "text/x-python",
  "name": "python",
  "npconvert_exporter": "python",
  "pygments_lexer": "ipython3",
  "version": 3
 },
 "nbformat": 4,
 "nbformat_minor": 2
}
