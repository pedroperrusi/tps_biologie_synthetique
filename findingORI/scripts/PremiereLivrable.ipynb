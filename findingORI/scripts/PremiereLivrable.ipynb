{
 "cells": [
  {
   "cell_type": "markdown",
   "metadata": {},
   "source": [
    "# Rappel du premier TP"
   ]
  },
  {
   "cell_type": "code",
   "execution_count": 1,
   "metadata": {},
   "outputs": [],
   "source": [
    "## Function definitions\n",
    "### Load Data\n",
    "def loadData(filename):\n",
    "    with open(filename, 'r') as myfile:\n",
    "        text = myfile.read().replace('\\n', '')\n",
    "    return text\n",
    "\n",
    "### Pattern finding function\n",
    "def PatternCount(text, pattern):\n",
    "    count = 0\n",
    "    for i in range(len(text)-len(pattern)+1):\n",
    "        if text[i:i+len(pattern)] == pattern:\n",
    "            count = count + 1\n",
    "    return count\n",
    "\n",
    "# reference : https://www.biostars.org/p/307731/\n",
    "def FrequentWords(text,  k):\n",
    "    # words frequency dictionary\n",
    "    freq = {}\n",
    "    n = len(text)\n",
    "    for i in range (n-k+1):\n",
    "        Pattern = text [i:i+k]\n",
    "        if Pattern not in freq:\n",
    "            freq [Pattern] = 1 # if a pattern found is not already  in the dictionary freq{}, it is assigned a value of 1 and added to the list\n",
    "        else:\n",
    "            freq [Pattern] +=1 # however, if the pattern is already in the dictionary, its value should go up by 1 (so if it has been found, it is initially given a pattern of 1, and then this adds another 1 if it is found again\n",
    "    return freq\n",
    "\n",
    "# most frequent pattern\n",
    "def MostFrequentWord(text, k):\n",
    "    freqs = FrequentWords(text,k)\n",
    "    max_value = max(freqs.values())  # maximum value\n",
    "    max_keys = [k for k, v in freqs.items() if v == max_value]\n",
    "    return max_value, max_keys\n",
    "\n",
    "### Pattern Matching Function\n",
    "def PatternMatching(text, pat):\n",
    "    positions = [] # empty list\n",
    "    for i in range(len(text)-len(pattern)+1):\n",
    "        if text[i:i+len(pattern)] == pattern:\n",
    "            positions.append(i)\n",
    "    return positions"
   ]
  },
  {
   "cell_type": "code",
   "execution_count": 2,
   "metadata": {},
   "outputs": [
    {
     "name": "stdout",
     "output_type": "stream",
     "text": [
      "CTAACGCTAACCTTTGATTAGCCGCCACGTTGACCTGATTTTTTGATAAAGGAGCTTCTTCAAACGTAACGCGAAGCCAAAAATCGTGATGTTACAGGTAAGGTGCGACCCATATCAGCAGGGACCCAGTGCTTTGGGTGTGGCACCCACTTGAGCAGAGGCGCAACATGGAAGGAGTTACAAAGGAAGTTAGGGTGAGTGACAACTACTGAGCACTTTTGCTCCTGCGCATCGGCAGTAAGTACTATCAATGTAGCTTGCATATTTTTTGATGTCTGCCGTGCGATCCAGCGGCTAGGCCGGTGCAACCCTTGTTGGGAGTGTTTCACTCTACCCATTAATCATTATGTTCATCGCCGGCTCACAGAGGGTCAGCAGTAAACTTGGTTTATCGGCGCCACGTGCCTACTACCGCTCGTTGATTACCATGAATAGCTCAGCTTTGAAATCGTTCAGGAACCGCGGTTCGATTCGTCTAGCGAGCATTAATCTCACCATTTACATTGATTCATAGACATAGTCTCAATCTACGCCGGGTGGGCCCCTTTAGATCCACTTGAGTGCATAAACAGACAAAGCACGACCAACGTTTCTTGCTGCTGTCGCTTAGGTATCTTGCTTGATGTTCCGCTCGCGGACCACCCGGACCCGTCTAGATTGTTGGACCTAAAAACACTAAGGGTTGTCGGCGTAGCAACGACGAAAATTAATCACCCGTCAACAACGTATGATCAGTACGCCAGGAATTGTGTGACAAGCCCGTAGACTCCCTGTACGATGCCAGGGGGCATATATTTCCCTCCAGATCTAGGGCCTGAAACTGGTCGACCACCGAAATAACGGCGAAACTTGTATAGATCAGCCATAGAGAGTCTAACTCTTCATCGGTCCGTTGTGCTTGCAGTGGCAGCTAGCGACCCCGTCTTGCTCACATTCGAAATTAGCATGGGCATATTCTCGGACATTGGACAGTTACGAGGAGGGAGCCAGGTGTCGTTCC\n"
     ]
    }
   ],
   "source": [
    "# Load data\n",
    "genome = loadData('../data/random21.txt')\n",
    "print(genome)"
   ]
  },
  {
   "cell_type": "markdown",
   "metadata": {},
   "source": [
    "### Test Examples"
   ]
  },
  {
   "cell_type": "code",
   "execution_count": 3,
   "metadata": {},
   "outputs": [
    {
     "data": {
      "text/plain": [
       "15"
      ]
     },
     "execution_count": 3,
     "metadata": {},
     "output_type": "execute_result"
    }
   ],
   "source": [
    "myPattern = 'CAC'\n",
    "PatternCount(genome, myPattern)\n"
   ]
  },
  {
   "cell_type": "code",
   "execution_count": 5,
   "metadata": {
    "scrolled": true
   },
   "outputs": [
    {
     "name": "stdout",
     "output_type": "stream",
     "text": [
      "3 ['ATTAATC', 'TCTTGCT']\n"
     ]
    }
   ],
   "source": [
    "myFreqWordsCount = 7\n",
    "[maxCount, patterns] = MostFrequentWord(genome, myFreqWordsCount)\n",
    "print(maxCount, patterns)"
   ]
  },
  {
   "cell_type": "code",
   "execution_count": null,
   "metadata": {},
   "outputs": [],
   "source": []
  }
 ],
 "metadata": {
  "kernelspec": {
   "display_name": "Python 3",
   "language": "python",
   "name": "python3"
  },
  "language_info": {
   "codemirror_mode": {
    "name": "ipython",
    "version": 3
   },
   "file_extension": ".py",
   "mimetype": "text/x-python",
   "name": "python",
   "nbconvert_exporter": "python",
   "pygments_lexer": "ipython3",
   "version": "3.7.2"
  }
 },
 "nbformat": 4,
 "nbformat_minor": 2
}
