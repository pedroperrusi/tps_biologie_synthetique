{
 "cells": [
  {
   "cell_type": "markdown",
   "metadata": {},
   "source": [
    "# Finding Frequent Patterns\n"
   ]
  },
  {
   "cell_type": "markdown",
   "metadata": {},
   "source": [
    "### Loading data"
   ]
  },
  {
   "cell_type": "code",
   "execution_count": 1,
   "metadata": {},
   "outputs": [
    {
     "name": "stdout",
     "output_type": "stream",
     "text": [
      "Genome ORIC \n",
      " ATCAATGATCAACGTAAGCTTCTAAGCATGATCAAGGTGCTCACACAGTTTATCCACAACCTGAGTGGATGACATCAAGATAGGTCGTTGTATCTCCTTCCTCTCGTACTCTCATGACCACGGAAAGATGATCAAGAGAGGATGATTTCTTGGCCATATCGCAATGAATACTTGTGACTTGTGCTTCCAATTGACATCTTCAGCGCCATATTGCGCTGGCCAAGGTGACGGAGCGGGATTACGAAAGCATGATCATGGCTGTTGTTCTGTTTATCTTGTTTTGACTGAGACTTGTTAGGATAGACGGTTTTTCATCACTGACTAGCCAAAGCCTTACTCTGCCTGACATCGACCGTAAATTGATAATGAATTTACATGCTTCCGCGACGATTTACCTCTTGATCATCGATCCGATTGAAGATCTTCAATTGTTAATTCTCTTGCCTCGACTCATAGCCATGATGAGCTCTTGATCATGTTTCCTTAACCCTCTATTTTTTACGGAAGAATGATCAAGCTGCTGCTCTTGATCATCGTTTC\n",
      "\n",
      " Genome Petrofila ORIC\n",
      " AACTCTATACCTCCTTTTTGTCGAATTTGTGTGATTTATAGAGAAAATCTTATTAACTGAAACTAAAATGGTAGGTTTGGTGGTAGGTTTTGTGTACATTTTGTAGTATCTGATTTTTAATTACATACCGTATATTGTATTAAATTGACGAACAATTGCATGGAATTGAATATATGCAAAACAAACCTACCACCAAACTCTGTATTGACCATTTTAGGACAACTTCAGGGTGGTAGGTTTCTGAAGCTCTCATCAATAGACTATTTTAGTCTTTACAAACAATATTACCGTTCAGATTCAAGATTCTACAACGCTGTTTTAATGGGCGTTGCAGAAAACTTACCACCTAAAATCCAGTATCCAAGCCGATTTCAGAGAAACCTACCACTTACCTACCACTTACCTACCACCCGGGTGGTAAGTTGCAGACATTATTAAAAACCTCATCAGAAGCTTGTTCAAAAATTTCAATACTCGAAACCTACCACCTGCGTCCCCTATTATTTACTACTACTAATAATAGCAGTATAATTGATCTGA\n",
      "\n",
      " Length of Genome Vibrio Cholerae\n",
      " 1108250\n"
     ]
    }
   ],
   "source": [
    "### Load Data\n",
    "def loadData(filename):\n",
    "    with open(filename, 'r') as myfile:\n",
    "        text = myfile.read().replace('\\n', '')\n",
    "    return text\n",
    "\n",
    "genome_oric = loadData('../data/v_cholerae_oric.txt')\n",
    "print('Genome ORIC \\n', genome_oric)\n",
    "\n",
    "genome_petrofila_oric = loadData('../data/t_petrophilia_oric.txt')\n",
    "print('\\n', 'Genome Petrofila ORIC\\n', genome_petrofila_oric)\n",
    "\n",
    "Vibrio_cholerae_genome = loadData('../data/Vibrio_cholerae_genome.txt')\n",
    "print('\\n', 'Length of Genome Vibrio Cholerae\\n', len(Vibrio_cholerae_genome))"
   ]
  },
  {
   "cell_type": "markdown",
   "metadata": {},
   "source": [
    "## 1 : Pattern count funtion"
   ]
  },
  {
   "cell_type": "code",
   "execution_count": 2,
   "metadata": {},
   "outputs": [],
   "source": [
    "### Pattern finding function\n",
    "def PatternCount(text, pattern):\n",
    "    count = 0\n",
    "    for i in range(len(text)-len(pattern)+1):\n",
    "        if text[i:i+len(pattern)] == pattern:\n",
    "            count = count + 1\n",
    "    return count"
   ]
  },
  {
   "cell_type": "code",
   "execution_count": 3,
   "metadata": {},
   "outputs": [
    {
     "name": "stdout",
     "output_type": "stream",
     "text": [
      "8\n"
     ]
    }
   ],
   "source": [
    "# Count pattarn of the 'TGATCA' string\n",
    "print(PatternCount(genome_oric, 'TGATCA'))"
   ]
  },
  {
   "cell_type": "markdown",
   "metadata": {},
   "source": [
    "## 2 : Frquent Words function"
   ]
  },
  {
   "cell_type": "code",
   "execution_count": 4,
   "metadata": {},
   "outputs": [],
   "source": [
    "# reference : https://www.biostars.org/p/307731/\n",
    "def FrequentWords(text,  k):\n",
    "    # words frequency dictionary\n",
    "    freq = {}\n",
    "    n = len(text)\n",
    "    for i in range (n-k+1):\n",
    "        Pattern = text [i:i+k]\n",
    "        if Pattern not in freq:\n",
    "            freq [Pattern] = 1 # if a pattern found is not already  in the dictionary freq{}, it is assigned a value of 1 and added to the list\n",
    "        else:\n",
    "            freq [Pattern] +=1 # however, if the pattern is already in the dictionary, its value should go up by 1 (so if it has been found, it is initially given a pattern of 1, and then this adds another 1 if it is found again\n",
    "    return freq"
   ]
  },
  {
   "cell_type": "code",
   "execution_count": 5,
   "metadata": {},
   "outputs": [
    {
     "name": "stdout",
     "output_type": "stream",
     "text": [
      "{'ATC': 21, 'TCA': 17, 'CAA': 12, 'AAT': 10, 'ATG': 15, 'TGA': 25, 'GAT': 21, 'AAC': 3, 'ACG': 7, 'CGT': 5, 'GTA': 4, 'TAA': 6, 'AAG': 12, 'AGC': 10, 'GCT': 10, 'CTT': 17, 'TTC': 12, 'TCT': 16, 'CTA': 3, 'GCA': 3, 'CAT': 16, 'AGG': 5, 'GGT': 4, 'GTG': 5, 'TGC': 8, 'CTC': 14, 'CAC': 5, 'ACA': 7, 'CAG': 2, 'AGT': 2, 'GTT': 11, 'TTT': 16, 'TTA': 10, 'TAT': 6, 'TCC': 7, 'CCA': 8, 'ACC': 5, 'CCT': 9, 'CTG': 10, 'GAG': 6, 'TGG': 4, 'GGA': 7, 'GAC': 13, 'AGA': 8, 'ATA': 7, 'TAG': 5, 'GTC': 1, 'TCG': 7, 'TTG': 17, 'TGT': 10, 'TAC': 7, 'ACT': 9, 'CGG': 5, 'GAA': 7, 'AAA': 4, 'ATT': 11, 'GGC': 3, 'GCC': 8, 'CGC': 4, 'GCG': 4, 'GGG': 1, 'CGA': 7, 'CCG': 3, 'CCC': 1}\n"
     ]
    }
   ],
   "source": [
    "freq = FrequentWords(genome_oric, 3)\n",
    "print(freq)"
   ]
  },
  {
   "cell_type": "code",
   "execution_count": 6,
   "metadata": {},
   "outputs": [
    {
     "name": "stdout",
     "output_type": "stream",
     "text": [
      "ATGATCAAG 3\n"
     ]
    }
   ],
   "source": [
    "# most frequent pattern\n",
    "def MostFrequentWord(text, k):\n",
    "    freqs = FrequentWords(text,k)\n",
    "    return freqs, max(freqs, key=freqs.get)\n",
    "\n",
    "[freqs, maxFreq] = MostFrequentWord(genome_oric, 9)\n",
    "print(maxFreq, freqs[maxFreq])"
   ]
  },
  {
   "cell_type": "markdown",
   "metadata": {},
   "source": [
    "## 3 : Pattern Matching"
   ]
  },
  {
   "cell_type": "code",
   "execution_count": 7,
   "metadata": {},
   "outputs": [],
   "source": [
    "pat = 'ATGATCAAG'"
   ]
  },
  {
   "cell_type": "markdown",
   "metadata": {},
   "source": [
    "#### Reverse Complement"
   ]
  },
  {
   "cell_type": "code",
   "execution_count": 14,
   "metadata": {},
   "outputs": [
    {
     "name": "stdout",
     "output_type": "stream",
     "text": [
      "\n",
      "\n"
     ]
    }
   ],
   "source": [
    "# ref: https://stackoverflow.com/questions/25188968/reverse-complement-of-dna-strand-using-python\n",
    "def ReverseComplementPattern(pattern):\n",
    "    complement = {'A': 'T', 'C': 'G', 'G': 'C', 'T': 'A'}\n",
    "    # reverse pattern\n",
    "    reversePattern = ''\n",
    "    \n",
    "    for c in reversePattern:\n",
    "        reversePattern.append(complement[c])\n",
    "        \n",
    "    print(reversePattern)\n",
    "    reversePattern = ''.join(reversed(reversePattern))\n",
    "    return reversePattern\n",
    "\n",
    "print(ReverseComplementPattern(pat))"
   ]
  },
  {
   "cell_type": "code",
   "execution_count": 15,
   "metadata": {},
   "outputs": [],
   "source": [
    "### Pattern Matching Function\n",
    "def PatternMatching(text, pat):\n",
    "    positions = [] # empty list\n",
    "    for i in range(len(text)-len(pat)+1):\n",
    "        if text[i:i+len(pat)] == pat:\n",
    "            positions.append(i)\n",
    "    return positions"
   ]
  },
  {
   "cell_type": "code",
   "execution_count": 16,
   "metadata": {},
   "outputs": [
    {
     "name": "stdout",
     "output_type": "stream",
     "text": [
      "[27, 127, 508]\n",
      "\n",
      "[0, 1, 2, 3, 4, 5, 6, 7, 8, 9, 10, 11, 12, 13, 14, 15, 16, 17, 18, 19, 20, 21, 22, 23, 24, 25, 26, 27, 28, 29, 30, 31, 32, 33, 34, 35, 36, 37, 38, 39, 40, 41, 42, 43, 44, 45, 46, 47, 48, 49, 50, 51, 52, 53, 54, 55, 56, 57, 58, 59, 60, 61, 62, 63, 64, 65, 66, 67, 68, 69, 70, 71, 72, 73, 74, 75, 76, 77, 78, 79, 80, 81, 82, 83, 84, 85, 86, 87, 88, 89, 90, 91, 92, 93, 94, 95, 96, 97, 98, 99, 100, 101, 102, 103, 104, 105, 106, 107, 108, 109, 110, 111, 112, 113, 114, 115, 116, 117, 118, 119, 120, 121, 122, 123, 124, 125, 126, 127, 128, 129, 130, 131, 132, 133, 134, 135, 136, 137, 138, 139, 140, 141, 142, 143, 144, 145, 146, 147, 148, 149, 150, 151, 152, 153, 154, 155, 156, 157, 158, 159, 160, 161, 162, 163, 164, 165, 166, 167, 168, 169, 170, 171, 172, 173, 174, 175, 176, 177, 178, 179, 180, 181, 182, 183, 184, 185, 186, 187, 188, 189, 190, 191, 192, 193, 194, 195, 196, 197, 198, 199, 200, 201, 202, 203, 204, 205, 206, 207, 208, 209, 210, 211, 212, 213, 214, 215, 216, 217, 218, 219, 220, 221, 222, 223, 224, 225, 226, 227, 228, 229, 230, 231, 232, 233, 234, 235, 236, 237, 238, 239, 240, 241, 242, 243, 244, 245, 246, 247, 248, 249, 250, 251, 252, 253, 254, 255, 256, 257, 258, 259, 260, 261, 262, 263, 264, 265, 266, 267, 268, 269, 270, 271, 272, 273, 274, 275, 276, 277, 278, 279, 280, 281, 282, 283, 284, 285, 286, 287, 288, 289, 290, 291, 292, 293, 294, 295, 296, 297, 298, 299, 300, 301, 302, 303, 304, 305, 306, 307, 308, 309, 310, 311, 312, 313, 314, 315, 316, 317, 318, 319, 320, 321, 322, 323, 324, 325, 326, 327, 328, 329, 330, 331, 332, 333, 334, 335, 336, 337, 338, 339, 340, 341, 342, 343, 344, 345, 346, 347, 348, 349, 350, 351, 352, 353, 354, 355, 356, 357, 358, 359, 360, 361, 362, 363, 364, 365, 366, 367, 368, 369, 370, 371, 372, 373, 374, 375, 376, 377, 378, 379, 380, 381, 382, 383, 384, 385, 386, 387, 388, 389, 390, 391, 392, 393, 394, 395, 396, 397, 398, 399, 400, 401, 402, 403, 404, 405, 406, 407, 408, 409, 410, 411, 412, 413, 414, 415, 416, 417, 418, 419, 420, 421, 422, 423, 424, 425, 426, 427, 428, 429, 430, 431, 432, 433, 434, 435, 436, 437, 438, 439, 440, 441, 442, 443, 444, 445, 446, 447, 448, 449, 450, 451, 452, 453, 454, 455, 456, 457, 458, 459, 460, 461, 462, 463, 464, 465, 466, 467, 468, 469, 470, 471, 472, 473, 474, 475, 476, 477, 478, 479, 480, 481, 482, 483, 484, 485, 486, 487, 488, 489, 490, 491, 492, 493, 494, 495, 496, 497, 498, 499, 500, 501, 502, 503, 504, 505, 506, 507, 508, 509, 510, 511, 512, 513, 514, 515, 516, 517, 518, 519, 520, 521, 522, 523, 524, 525, 526, 527, 528, 529, 530, 531, 532, 533, 534, 535, 536, 537, 538, 539, 540]\n"
     ]
    }
   ],
   "source": [
    "print(PatternMatching(genome_oric, pat))\n",
    "print(PatternMatching(genome_oric, ReverseComplementPattern(pat)))"
   ]
  },
  {
   "cell_type": "markdown",
   "metadata": {},
   "source": [
    "## 4 : Other frequent genomes"
   ]
  },
  {
   "cell_type": "code",
   "execution_count": 19,
   "metadata": {},
   "outputs": [
    {
     "name": "stdout",
     "output_type": "stream",
     "text": [
      "{'ATGATCAAG': 3, 'CTCTTGATC': 3, 'TCTTGATCA': 3, 'CTTGATCAT': 3}\n"
     ]
    }
   ],
   "source": [
    "# Filter the frequent patterns to find all which counts greater than 3\n",
    "# for k = 9\n",
    "freq_petrofila = FrequentWords(genome_oric, 9)\n",
    "# ref : https://stackoverflow.com/questions/2844516/how-to-filter-a-dictionary-according-to-an-arbitrary-condition-function\n",
    "# k = keys and v = values of the dictionary\n",
    "freq3plus = {k : v for k,v in freq_petrofila.items() if v >=3}\n",
    "print(freq3plus)"
   ]
  },
  {
   "cell_type": "code",
   "execution_count": 20,
   "metadata": {},
   "outputs": [
    {
     "name": "stdout",
     "output_type": "stream",
     "text": [
      "\n",
      "\n",
      "\n",
      "\n",
      "\n",
      "\n",
      "\n",
      "\n"
     ]
    }
   ],
   "source": [
    "for key in freq3plus.keys():\n",
    "    print(ReverseComplementPattern(key))"
   ]
  },
  {
   "cell_type": "markdown",
   "metadata": {},
   "source": [
    "## Some Optimization"
   ]
  },
  {
   "cell_type": "markdown",
   "metadata": {},
   "source": [
    "#### 1 : Pattern to Number"
   ]
  },
  {
   "cell_type": "code",
   "execution_count": 98,
   "metadata": {},
   "outputs": [],
   "source": [
    "def PatternToNumber(text, pattern):\n",
    "    return text.index(pattern)"
   ]
  },
  {
   "cell_type": "code",
   "execution_count": 100,
   "metadata": {},
   "outputs": [
    {
     "name": "stdout",
     "output_type": "stream",
     "text": [
      "5\n"
     ]
    }
   ],
   "source": [
    "# Test it\n",
    "index = PatternToNumber(genome_oric, 'TGATCA')\n",
    "print(index)"
   ]
  },
  {
   "cell_type": "markdown",
   "metadata": {},
   "source": [
    "#### 2 : Number to Pattern"
   ]
  },
  {
   "cell_type": "code",
   "execution_count": 96,
   "metadata": {},
   "outputs": [],
   "source": [
    "def NumberToPattern(text, index, k):\n",
    "    return text[index:index+k]"
   ]
  },
  {
   "cell_type": "code",
   "execution_count": 101,
   "metadata": {},
   "outputs": [
    {
     "name": "stdout",
     "output_type": "stream",
     "text": [
      "TGATCA\n"
     ]
    }
   ],
   "source": [
    "# test it\n",
    "print(NumberToPattern(genome_oric, index, 6))"
   ]
  },
  {
   "cell_type": "markdown",
   "metadata": {},
   "source": [
    "#### 3 : Computing Frequencies"
   ]
  },
  {
   "cell_type": "code",
   "execution_count": 164,
   "metadata": {},
   "outputs": [
    {
     "name": "stdout",
     "output_type": "stream",
     "text": [
      "TTT 31901\n"
     ]
    }
   ],
   "source": [
    "[freqs, maxFreq] = MostFrequentWord(Vibrio_cholerae_genome, 3)\n",
    "print(maxFreq, freqs[maxFreq])"
   ]
  },
  {
   "cell_type": "code",
   "execution_count": null,
   "metadata": {},
   "outputs": [],
   "source": []
  },
  {
   "cell_type": "code",
   "execution_count": null,
   "metadata": {},
   "outputs": [],
   "source": []
  }
 ],
 "metadata": {
  "kernelspec": {
   "display_name": "Python 3",
   "language": "python",
   "name": "python3"
  },
  "language_info": {
   "codemirror_mode": {
    "name": "ipython",
    "version": 3
   },
   "file_extension": ".py",
   "mimetype": "text/x-python",
   "name": "python",
   "nbconvert_exporter": "python",
   "pygments_lexer": "ipython3",
   "version": "3.7.2"
  }
 },
 "nbformat": 4,
 "nbformat_minor": 2
}
